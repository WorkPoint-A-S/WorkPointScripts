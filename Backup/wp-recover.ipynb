{
 "cells": [
  {
   "cell_type": "markdown",
   "metadata": {},
   "source": [
    "# PowerShell Data Recovery Script for SharePoint Online\n",
    "\n",
    "## Overview\n",
    "This PowerShell NoteBook serves as a practical guide to demonstrate the data recovery process from a backup provider to an operational WP365 system. \n",
    "\n",
    "These code sections accompany the document [WorkPoint Backup & Recovery - Technical Procedures](https://support.workpoint.dk/hc/en-us/articles/11427496217746-Backup-and-recovery-for-WorkPoint-365) by providing step-by-step walkthrough of code operations that require authentication, inspection and manipulation of WorkPoint365 data. \n",
    "\n",
    "## Important Notes\n",
    "- Not all steps in the workflow require code. Refer to the document first and revert to the code as required.\n",
    "- Several utility functions are defined and explained within the script and its comments to enhance understanding.\n",
    "- This script is designed as an educational and reference resource and is not intended to be executed end to end without customization. \n",
    "- The system administrator is expected to adjust runtime parameters, including authentication, data sources, and recovery targets, to match the specific implementation.\n",
    "\n",
    "## Script Usage\n",
    "- Study each section of the script to understand the recovery process thoroughly.\n",
    "- Adapt the script by interpreting and modifying the provided utility functions, variables, and configuration settings according to your organization's WorkPoint365 setup and backup provider.\n",
    "- Execute specific portions of the script as needed for your data recovery scenarios.\n",
    "\n",
    "## Disclaimer\n",
    "This script is intended for educational and informational purposes. While it outlines the recovery process, it should be customized and tested in a controlled environment before use in a production setting. Careful consideration of authentication, security, and data integrity is paramount during the recovery process.\n",
    "\n",
    "**Copyright (C) 2024 WorkPoint A/S. All rights reserved.**"
   ]
  },
  {
   "cell_type": "code",
   "execution_count": 16,
   "metadata": {},
   "outputs": [
    {
     "name": "stdout",
     "output_type": "stream",
     "text": [
      "Configuration loaded\n"
     ]
    }
   ],
   "source": [
    "# Retrieve and validate input parameters\n",
    "\n",
    "## WorkPoint Solution Root: adjust to the URL of your WP365 Solution.\n",
    "$WPSolutionUrl = $env:WP_SOLUTION_URL\n",
    "\n",
    "## WorkPoint API endpoint: adjust for either ``api`` or ``api-test`` according to the implementation ring of your WP365 solution.\n",
    "$WPApiUrl = $env:WP_API_URL\n",
    "\n",
    "##  Some recovery operations interact w. WP365 API via authenticated REST requests.\n",
    "# - These Application Registration MUST be adjusted for your Azure tenant and refer to an\n",
    "#   enterprise application registration with ApplicationAccess to the Scope: WorkPoin365 WebApi (Test).\n",
    "# - code requiring an AccessToken below can be adjusted if using an alternative Authentication provider. \n",
    "$AppReg = @{\n",
    "    TenantId = $env:WP_APPREG_TENANT_ID\n",
    "    ClientId = $env:WP_APPREG_CLIENT_ID\n",
    "    ClientSecret = $env:WP_APPREG_CLIENT_SECRET\n",
    "}\n",
    "\n",
    "# validate input parameters\n",
    "$Errors = @()\n",
    "If (-not [System.Uri]::IsWellFormedUriString($WPSolutionUrl, 'Absolute')) {\n",
    "    $Errors += \"`$env:WP_SOLUTION_URL: contains invalid/missing Uri ($WPSolutionUrl)\"\n",
    "}\n",
    "If (-not [System.Uri]::IsWellFormedUriString($WPApiUrl, 'Absolute')) {\n",
    "    $Errors += \"`$env:WP_API_URL: contains invalid/missing Uri ($WPApiUrl)\"\n",
    "}\n",
    "#verify AppReg\n",
    "If ((-not [guid]::TryParse($AppReg.TenantId, $([ref][guid]::Empty))) `\n",
    "    -or (-not [guid]::TryParse($AppReg.ClientId, $([ref][guid]::Empty)))) {\n",
    "        $Errors += \"`$env:WP_APPREG_TENANT_ID / `$env:WP_APPREG_CLIENT_ID : contains invalid/missing GUID values ($AppReg)\"\n",
    "}\n",
    "# abort if errors found.\n",
    "If ($Errors.Length -gt 0) {\n",
    "    Write-Error \"Invalid input parameters found: verify: ($Errors -join ',')\"\n",
    "    Exit 1\n",
    "}\n",
    "Write-Host \"Configuration loaded\""
   ]
  },
  {
   "cell_type": "code",
   "execution_count": null,
   "metadata": {},
   "outputs": [],
   "source": [
    "# obtain an initial connection to the SP/WP Solution Url.\n",
    "Connect-PnPOnline -Url $WPSolutionUrl -Interactive\n",
    "$SharePointUrl = $WPSolutionUrl -split \"/sites\" | Select-Object -First 1\n",
    "Write-Host \"Connected to WP365: $($WPSolutionUrl) / $SharePointUrl\""
   ]
  },
  {
   "cell_type": "markdown",
   "metadata": {},
   "source": [
    "\n",
    "### PowerShell Backup Inspection and Restoration Functions\n",
    "\n",
    "#### Overview\n",
    "This collection of PowerShell functions is designed to streamline the process of inspecting and restoring WP365 data from a backup provider. These functions provide a versatile toolkit for administrators and backup specialists to inspect and, if necessary, correct data recovered from a 3rd party BaaS provider.\n",
    "\n",
    "**Disclaimer**: These functions are provided only as examples to demonstrate the types of manipulation necessary to recover and re-insert BaaS recovered data into a WP365 environment. Administrators are responsible for validating the functions are suitable for their WP365 environment and for the proper handling of sensitive data and compliance with data protection regulations."
   ]
  },
  {
   "cell_type": "code",
   "execution_count": 8,
   "metadata": {},
   "outputs": [
    {
     "name": "stdout",
     "output_type": "stream",
     "text": []
    }
   ],
   "source": [
    "\n",
    "<#\n",
    ".SYNOPSIS\n",
    "Converts a simple string into a GUID format by inserting delimiters.\n",
    "Used to convert the non-delimited GUID format used in wpItemLocation into an actual GUID.\n",
    "\n",
    ".PARAMETER InputString\n",
    "The simple string that you want to convert into a GUID format.\n",
    "\n",
    ".EXAMPLE\n",
    "ConvertTo-Guid -InputString \"c74c5e27123740fc82479b65b4033f69 \"\n",
    "# Output: \"c74c5e27-1237-40fc-8247-9b65b4033f69\"\n",
    "\n",
    "#>\n",
    "Function ConvertTo-Guid() {\n",
    "    param (\n",
    "        [Parameter(Position = 0)]\n",
    "        [Object] $InputString\n",
    "    )\n",
    "    return ($InputString.Insert(8, \"-\").Insert(13, \"-\").Insert(18, \"-\").Insert(23, \"-\"))\n",
    "}\n",
    "\n",
    "Function ConvertFrom-Guid() {\n",
    "    param (\n",
    "        [Parameter(Position = 0)]\n",
    "        [Object] $InputString\n",
    "    )\n",
    "    return $InputString -replace '-',''\n",
    "}\n",
    "\n",
    "<#\n",
    ".SYNOPSIS\n",
    "Inspects a BusinessModule SPList and identifies the properties used to manage an Entity in a Business Module hierarchy.\n",
    "\n",
    ".PARAMETER BusinessModuleName\n",
    "The name of the Business Module in string format e.g. \"Locations\"\n",
    "\n",
    ".PARAMETER BusinessModuleId\n",
    "The GUID of the BusinessModule in string format e.g. \"c74c5e27-1237-40fc-8247-9b65b4033f69\". \n",
    "This is used to compare the wpItemLocation value on the entities with the data recovered from backup. \n",
    "\n",
    ".EXAMPLE\n",
    "Get-Entities -BusinessModuleName \"Locations\" -BusinessModuleId \"c74c5e27-1237-40fc-8247-9b65b4033f69\"\n",
    "- OUTPUT: Title, fromBmId, fromEntityId, toBmId, toEntityId \n",
    "#>\n",
    "Function Get-Entities() {\n",
    "    param (\n",
    "        [Parameter(Position = 0)]\n",
    "        [Object] $BusinessModuleName,\n",
    "\n",
    "        [Parameter(Position = 1)]\n",
    "        [Object] $BusinessModuleId\n",
    "    )\n",
    "    \n",
    "  \n",
    "    # Use a Regular Expression to extract the BusinessModule and EntityId from a restored wpItemLocation path.\n",
    "    $RgxLocation = '(?:([a-f,\\d]{32});(\\d+);)?([a-f,\\d]{32});(\\d+);$'\n",
    "\n",
    "\n",
    "    # Get all Entity Items in the list (except MASTER)\n",
    "    $EntityItems = @()\n",
    "    $ListItems = Get-PnPListItem -List $BusinessModuleName -Query \"<View><Query><Where><Gt><FieldRef Name='ID' /><Value Type='Number'>1</Value></Gt></Where></Query></View>\"\n",
    "    $toBmId = ConvertFrom-Guid -InputString $BusinessModuleId\n",
    "\n",
    "    # Iterate, and identify inconsistent wpItemLocation values\n",
    "    foreach ($Item in $ListItems)\n",
    "    {\n",
    "        # calculate the correct termination of the wpItemLocation field.\n",
    "        $ItemLocation = \"$($toBmId);$($Item.FieldValues.ID);\"\n",
    "\n",
    "        # found an item with an inconsistent wpItemLocation and Entity data, extract old BM/ItemId\n",
    "        $M = $Item.FieldValues.wpItemLocation | Select-String -Pattern $RgxLocation -AllMatches\n",
    "\n",
    "        $EntityItem = [PSCustomObject]@{\n",
    "            Title = $Item.FieldValues.Title\n",
    "            parentBmId = $M.Matches[0].Groups[1].Value\n",
    "            parentEntityId = $M.Matches[0].Groups[2].Value\n",
    "            fromBmId = $M.Matches[0].Groups[3].Value\n",
    "            fromEntityId = $M.Matches[0].Groups[4].Value\n",
    "            toBmId =  $toBmId \n",
    "            toEntityId  = $Item.FieldValues.ID\n",
    "            wpSite  = $Item.FieldValues.wpSite \n",
    "            wpParent  = $Item.FieldValues.wpParent\n",
    "            wpItemLocation  = $Item.FieldValues.wpItemLocation\n",
    "            wpItemLocationValid = \"$($Item.FieldValues.wpItemLocation)\".EndsWith($ItemLocation)\n",
    "        }\n",
    "\n",
    "        $EntityItems += $EntityItem\n",
    "    }\n",
    "\n",
    "    return $EntityItems\n",
    "\n",
    "}\n",
    "\n",
    "\n",
    "<#\n",
    ".SYNOPSIS\n",
    "Used after a recovery operation to correct a Child Entity's wpParent value by using the wpItemLocation in the supplied ParentEntityList to find a\n",
    "previous (now obsolete) ID\n",
    "#>\n",
    "Function Set-EntityParent {\n",
    "    param (\n",
    "        [Parameter(Position = 0)]\n",
    "        [Object] $BusinessModuleName,\n",
    "        \n",
    "        [Parameter(Position = 1)]\n",
    "        [Object] $EntityInfo,\n",
    "\n",
    "        [Parameter(Position = 2)]\n",
    "        [Object] $ParentEntityList,\n",
    "\n",
    "        [Parameter(Position = 3)]\n",
    "        [switch]$Force = $false\n",
    "    )\n",
    "\n",
    "    # Retrieve the list item from the Business Module, using the new EntityId\n",
    "    $Item = Get-PnPListItem -List $BusinessModuleName -Id $EntityInfo.toEntityId -Fields \"wpParent\"\n",
    "\n",
    "    #Check that the Entity has a new parentId, list item does NOT have a parent and that the values are inconsistent.\n",
    "    If (($Force -eq $True) -or (($null -ne $EntityInfo.parentEntityId) -and ($null -eq $Item.FieldValues.wpParent) -and ($EntityInfo.parentEntityId -ne $Item.FieldValues.wpParent))) {\n",
    "\n",
    "        #filter the ParentEntityList map, find the original parent Id to its new equivalent.\n",
    "        $wpParent = ($ParentEntityList | Where-Object { $_.fromEntityId -eq $EntityInfo.parentEntityId }).toEntityId\n",
    "\n",
    "       \n",
    "        #If the values are different, update.\n",
    "        If ($null -ne $wpParent) {\n",
    "            Write-Host \"Updating Parent on Entity ID:$($EntityInfo.toEntityId):'$($EntityInfo.Title)' - From:[$($Item.FieldValues.wpParent)] To:[$($wpParent)]\" \n",
    "            Set-PnPListItem -List $BusinessModuleName -Identity $EntityInfo.toEntityId -Values @{\"wpParent\" = $wpParent} \n",
    "        } else {\n",
    "            Write-Host \"No Parent found Entity ID:$($EntityInfo.toEntityId):'$($EntityInfo.Title)' - skipping\" \n",
    "        }\n",
    "\n",
    "    } \n",
    "\n",
    "}"
   ]
  },
  {
   "cell_type": "code",
   "execution_count": null,
   "metadata": {},
   "outputs": [],
   "source": [
    "<#\n",
    ".SYNOPSIS\n",
    "    Queries the WorkPoint Relations table to find any Relation Items that match the supplied Entity.\n",
    "\n",
    "#>\n",
    "Function Get-EntityRelations {\n",
    "    param (\n",
    "        [Parameter(Position = 1)]\n",
    "        [Object] $EntityInfo,\n",
    "\n",
    "        [Parameter(Position = 2)]\n",
    "        [ValidateSet(\"From\", \"To\")]\n",
    "        [string]$UseId = \"From\"\n",
    "    )\n",
    "\n",
    "    $BmId = If ($UseId -eq \"From\") { $EntityInfo.fromBmId } Else { $EntityInfo.toBMId }\n",
    "    $EntityId = If ($UseId -eq \"From\") { $EntityInfo.fromEntityId } Else { $EntityInfo.toEntityId }\n",
    "\n",
    "    Write-Host \"Finding Relations for BMId:$BmId Entity Id:$EntityId - (using '$UseId' values)\"\n",
    "\n",
    "    $Query = \"<View>\n",
    "    <Query>\n",
    "        <Where> `\n",
    "            <Or> `\n",
    "                <And> `\n",
    "                    <Eq><FieldRef Name=`\"wpRelationAListId`\" /><Value Type=`\"Text`\">$(ConvertTo-Guid($BmId))</Value></Eq>  `\n",
    "                    <Eq><FieldRef Name=`\"wpRelationAItemId`\" /><Value Type=`\"Number`\">$($EntityId)</Value></Eq> `\n",
    "                </And> `\n",
    "                <And> `\n",
    "                    <Eq><FieldRef Name=`\"wpRelationBListId`\" /><Value Type=`\"Text`\">$(ConvertTo-Guid($BmId))</Value></Eq>  `\n",
    "                    <Eq><FieldRef Name=`\"wpRelationBItemId`\" /><Value Type=`\"Number`\">$($EntityId)</Value></Eq> `\n",
    "                </And> `\n",
    "            </Or> `\n",
    "        </Where>\n",
    "    </Query>\n",
    "        <ViewFields> `\n",
    "            <FieldRef Name=`\"ID`\" /> `\n",
    "            <FieldRef Name=`\"wpRelationAListId`\" /> `\n",
    "            <FieldRef Name=`\"wpRelationAItemId`\" /> `\n",
    "            <FieldRef Name=`\"wpRelationBListId`\" /> `\n",
    "            <FieldRef Name=`\"wpRelationBItemId`\" /> `\n",
    "        </ViewFields> `\n",
    "    </View>\"\n",
    "\n",
    "    $Relations = @()\n",
    "\n",
    "    \n",
    "    $Items = Get-PnPListItem -List \"Relations\" -Query $Query\n",
    "\n",
    "    foreach ($Item in $Items) {\n",
    "        $Relations += [PSCustomObject]@{\n",
    "            ID = $($item.FieldValues.ID)\n",
    "            wpRelationAListId = $($item.FieldValues.wpRelationAListId)\n",
    "            wpRelationAItemId = $($item.FieldValues.wpRelationAItemId)\n",
    "            wpRelationBListId = $($item.FieldValues.wpRelationBListId)\n",
    "            wpRelationBItemId = $($item.FieldValues.wpRelationBItemId)\n",
    "        }\n",
    "    }\n",
    "\n",
    "    Write-Host \"- Found $($Relations.Count) relation(s)\"\n",
    "   \n",
    "    return $Relations\n",
    "\n",
    "}\n"
   ]
  },
  {
   "cell_type": "code",
   "execution_count": null,
   "metadata": {},
   "outputs": [],
   "source": [
    "<#\n",
    ".SYNOPSIS\n",
    "Generates and executes a request to the WP365 ConnectToSite API for establishing a connection\n",
    "between the Business Module Entity Item and the SPO site.\n",
    "\n",
    "#>\n",
    "Function Connect-EntityToSite {\n",
    "    param (\n",
    "        [string] $WorkPoint365Api = \"https://api-test.workpoint365.com\",\n",
    "        \n",
    "        [Parameter(Mandatory=$true)]\n",
    "        [string] $SolutionUrl,\n",
    "\n",
    "        [Parameter(Mandatory=$true)]\n",
    "        [string] $AccessToken,\n",
    "        \n",
    "        [Parameter(Mandatory=$true)]\n",
    "        [string] $BusinessModuleId,\n",
    "\n",
    "        [Parameter(Mandatory=$true)]\n",
    "        [int] $EntityId,\n",
    "\n",
    "        [Parameter(Mandatory=$true)]\n",
    "        [string] $SharePointUrl,\n",
    "        \n",
    "        [Parameter(Mandatory=$true)]\n",
    "        [string] $SiteUrl,\n",
    "\n",
    "        [Parameter(Mandatory=$false)]\n",
    "        [string] $UpdateRelations = $false\n",
    "    )\n",
    "\n",
    "    If (-not ($SiteUrl -match \"\\/sites\\/[^\\/]+\")) {\n",
    "        Write-Host \"Entity $EntityId has No Site To Connect $($SiteUrl)\"\n",
    "        return\n",
    "    }\n",
    "    \n",
    "    #construct a URI to the ConnectToSite API\n",
    "    $API =  \"$($WorkPoint365Api)/api/BusinessModules/$($BusinessModuleId)/entities/$($EntityId)/ConnectToSite\"\n",
    "    \n",
    "    $ReqData = @{\n",
    "        SiteUrl = \"$($SharePointUrl)$($SiteUrl)\"\n",
    "        SyncMasterSite = $False\n",
    "        UpdateRelations = $UpdateRelations\n",
    "    }\n",
    "\n",
    "   return Invoke-WPAPI -API $API -SolutionUrl $SolutionUrl -AccessToken $AccessToken -ReqData $ReqData\n",
    "}\n",
    "\n",
    "<#\n",
    ".SYNOPSIS\n",
    "Generates and executes a request to the WP365 ReplaceRelationsByEntity API for \n",
    "replacing legacy relations for the specified entity.\n",
    "#>\n",
    "Function MapRelations {\n",
    "    param (\n",
    "        [string] $WorkPoint365Api = \"https://api-test.workpoint365.com\",\n",
    "        [string] $SolutionUrl,\n",
    "        [string] $AccessToken,\n",
    "        [string] $fromBmId,\n",
    "        [int] $fromEntityId,\n",
    "        [string] $toBmId,\n",
    "        [int] $toEntityId\n",
    "    )\n",
    "    \n",
    "    #construct a URI to the ReplaceRelationsByEntity API\n",
    "    $API =  \"$($WorkPoint365Api)/api/Relations/ReplaceRelationsByEntity\" \n",
    "\n",
    "    # Construct a Request to Map Legacy Relations (per API spec) to the new Entity Id\n",
    "    $ReqData = @{\n",
    "        fromBusinessModuleId = ConvertTo-Guid($fromBmId)\n",
    "        fromEntityId = $fromEntityId\n",
    "        toBusinessModuleId = ConvertTo-Guid($toBmId)\n",
    "        toEntityId = $toEntityId\n",
    "    }\n",
    "\n",
    "    return Invoke-WPAPI -API $API -SolutionUrl $SolutionUrl -AccessToken $AccessToken -ReqData $ReqData\n",
    "    \n",
    "}"
   ]
  },
  {
   "cell_type": "code",
   "execution_count": 20,
   "metadata": {},
   "outputs": [
    {
     "name": "stdout",
     "output_type": "stream",
     "text": []
    }
   ],
   "source": [
    "<#\n",
    ".SYNOPSIS\n",
    "Convenience function for retrieving an AccessToken from an Azure Application registration\n",
    "using Tenant, ClientId and Secret\n",
    "\n",
    ".PARAMETER AzureTenantId\n",
    "The GUID TenantId obtained from http://portal.azure.com\n",
    "e.g. \"123e4567-e89b-12d3-a456-426655440000\"\n",
    "\n",
    ".PARAMETER AppRegClientId\n",
    "The Application Registration Id obtained from the Azure Portal. Note the AppReg must have\n",
    "ApplicationAccess to the \"WorKPoint Web API\" Enterprise Application in the Tenant\n",
    "e.g. \"a1b2c3d4-e5f6-4d3c-2b1a-1234567890ab\"\n",
    "\n",
    ".PARAMETER AppRegClientSecret\n",
    "The client secret generated for the App Registration in the Azure Portal.\n",
    "For further details see: https://learn.microsoft.com/en-us/entra/identity-platform/quickstart-register-app\n",
    "\n",
    ".NOTES\n",
    "Returns the AccessToken that can be used for subsequent WPAPI requests on the tenant.\n",
    "#>\n",
    "Function Get-WPAPIAccessToken() {\n",
    "    param (\n",
    "        [string] $AzureTenantId,\n",
    "        [string] $AppRegClientId,\n",
    "        [string] $AppRegClientSecret\n",
    "    )\n",
    "\n",
    "    #construct a Uri to the Azure Auth Service for the Tenant\n",
    "    $ApiUri = \"https://login.microsoftonline.com/$($AzureTenantId)/oauth2/v2.0/token\"\n",
    "    #construct the request payload including the AppReg credentials.\n",
    "    $ReqData = @{\n",
    "        grant_type = \"client_credentials\"\n",
    "        client_id = $AppRegClientId\n",
    "        client_secret =  $AppRegClientSecret\n",
    "        scope = \"https://workpoint365.com/wp365webapitest/.default\"\n",
    "    }\n",
    "\n",
    "    #required headers for authentication scope w. WP API\n",
    "    $Headers = @{\n",
    "        scope = \"https://workpoint365.com/wp365webapitest/user_impersonation\"\n",
    "    }\n",
    "    \n",
    "    #issue request to service & validate successful.\n",
    "    $Response = Invoke-RestMethod -Uri $ApiUri -Method Post -Headers $Headers -Body $ReqData \n",
    "    If ($null -eq $Response.access_token) {\n",
    "        throw \"ERROR App Authentication Failed $($Response.Content)\"\n",
    "    }\n",
    "    \n",
    "    #construct a bearer token string and return for future requests.\n",
    "    return $Response.access_token\n",
    "}\n",
    "\n",
    "<#\n",
    ".SYNOPSIS\n",
    "Convenience function for issuing an authenticated request to the WorkPoint API. \n",
    "\n",
    ".PARAMETER API\n",
    "The full URL of the WorkPoint API to invoke, including the relevant API host\n",
    "e.g. \"https://api-test.workpoint365.com/api/Solution/Export/123\"\n",
    "\n",
    ".PARAMETER SolutionUrl\n",
    "The full Solution URL of the WorkPoint solution\n",
    "e.g. \"https://m365x70229008.sharepoint.com/sites/WorkPoint\"\n",
    "\n",
    ".PARAMETER AccessToken\n",
    "The bearer token retrieved from the Get-WPAPIAccessToken function. \n",
    "Must have ApplicationAccess to the WorkPoint API App Registration on the Tenant.\n",
    "\n",
    ".PARAMETER ReqData\n",
    "A Map containing the request data. Will be converted to JSON/body for POST requests.\n",
    "\n",
    ".PARAMETER Method\n",
    "HTTP Method verb to use for the request, Defaults to \"POST\"\n",
    "\n",
    ".NOTES\n",
    "Returns Response object from Invoke-RestMethod CmdLet\n",
    "#>\n",
    "Function Invoke-WPAPI {\n",
    "    param (\n",
    "        [Parameter(Position = 0, Mandatory=$true)]\n",
    "        [string] $API,\n",
    "        [Parameter(Position = 1, Mandatory=$true)]\n",
    "        [string] $SolutionUrl,\n",
    "        [Parameter(Position = 2, Mandatory=$true)]\n",
    "        [string] $AccessToken,\n",
    "        [Parameter(Position = 3, Mandatory=$false)]\n",
    "        [object] $ReqData,\n",
    "        [Parameter(Position = 4, Mandatory=$false)]\n",
    "        [string] $Method = \"POST\"\n",
    "    )\n",
    "\n",
    "    \n",
    "    $Headers = @{\n",
    "        Accept = \"application/json;odata=verbose\"\n",
    "        \"Content-Type\" = \"application/json\"\n",
    "        WorkPoint365Url = $SolutionUrl\n",
    "        Authorization = \"Bearer $($AccessToken)\"\n",
    "    }\n",
    "    \n",
    "    $ReqData = $ReqData | ConvertTo-Json\n",
    "\n",
    "    Write-Host \"$($Method.ToString()):$API\"\n",
    "    Write-Host \"- HEADERS:\"\n",
    "    $Headers | ConvertTo-Json | Write-Host\n",
    "    Write-Host \"- BODY:\" \n",
    "    $ReqData | Write-Host\n",
    "\n",
    "    \n",
    "\n",
    "    #-Body $ReqData\n",
    "    return Invoke-RestMethod -Uri $API -Method $Method -Headers $Headers -Body $ReqData\n",
    "}\n"
   ]
  },
  {
   "cell_type": "code",
   "execution_count": 17,
   "metadata": {},
   "outputs": [
    {
     "name": "stdout",
     "output_type": "stream",
     "text": []
    }
   ],
   "source": [
    "<#\n",
    ".SYNOPSIS\n",
    "Convenience function for decoding the output from the WP365 Export Function.\n",
    "\n",
    ".PARAMETER EncodedString\n",
    "The full ``Base64`` encoded string as retrieved from the API, https://api-test.workpoint365.com/api/Solution/Export/123\n",
    "\n",
    ".PARAMETER OutFile\n",
    "optional: The name of the file to create from the output (defaults to \"Solution.zip\")\n",
    "\n",
    "#>\n",
    "Function Save-WpExport() {\n",
    "    [CmdletBinding()]\n",
    "    param (\n",
    "        [Parameter(Position = 0, ValueFromPipeline=$true)]\n",
    "        [string]$EncodedString,\n",
    "        [Parameter(Position = 1)]\n",
    "        [string]$OutFile = \"Solution.zip\"\n",
    "    )\n",
    "\n",
    "    process {\n",
    "  \n",
    "        # Decode the BASE64 encoded export\n",
    "        $decodedBytes = [System.Convert]::FromBase64String($EncodedString)\n",
    "    \n",
    "        # Save the decoded binary data to the file\n",
    "        [IO.File]::WriteAllBytes($OutFile, $decodedBytes)\n",
    "\n",
    "        return $OutFile\n",
    "\n",
    "    }\n",
    "\n",
    "}"
   ]
  },
  {
   "cell_type": "markdown",
   "metadata": {},
   "source": [
    "## WorkPoint Recovery Steps\n",
    "Code examples to accompany the workflow defined in the [Technical Procedures](https://support.workpoint.dk/hc/en-us/articles/11427496217746-Backup-and-recovery-for-WorkPoint-365)\n",
    "\n",
    "Some notes:\n",
    "- *Not all* procedure steps require code execution, refer to the document for the main flow and revert to the code elements if referenced in the document.\n",
    "- Parameters for the Modules and connection may need to be changed according to the implementation."
   ]
  },
  {
   "cell_type": "markdown",
   "metadata": {},
   "source": [
    "### Step 7. Restore Entity Hierarchy\n",
    "Here, we query a parent Business Module and identify any that have inconsistent ``wpItemLocation`` values."
   ]
  },
  {
   "cell_type": "code",
   "execution_count": 9,
   "metadata": {},
   "outputs": [
    {
     "name": "stdout",
     "output_type": "stream",
     "text": [
      "1 of 3 Locations Entities have inconsistent wpItemLocation\n",
      "\n",
      "\u001b[32;1mTitle    fromBmId                         fromEntityId toBmId                           toEntityId wpItemLocationValid\u001b[0m\n",
      "\u001b[32;1m-----    --------                         ------------ ------                           ---------- -------------------\u001b[0m\n",
      "Paris    315649f93dea4e5eae4265abb18e57b7 14           315649f93dea4e5eae4265abb18e57b7         14                True\n",
      "London   315649f93dea4e5eae4265abb18e57b7 15           315649f93dea4e5eae4265abb18e57b7         15                True\n",
      "New York 5afab17cb443411f8bd63a5722a37873 4            315649f93dea4e5eae4265abb18e57b7         16               False\n",
      "\n"
     ]
    }
   ],
   "source": [
    "# Identify the Parent Business Module by name, and obtain the list GUID.\n",
    "$ParentBusinessModule = \"Locations\"\n",
    "$ParentBusinessModuleId = (Get-PnPList -Identity $ParentBusinessModule).Id.ToString()\n",
    "\n",
    "#call the custom Get-Entities function to retrieve all entities and compare current wpItemLocation with actual entity values.\n",
    "$ParentEntities = Get-Entities -BusinessModuleName $ParentBusinessModule -BusinessModuleId $ParentBusinessModuleId\n",
    "$NumInvalid = ($ParentEntities | Where-Object { $_.wpItemLocationValid -eq $false }).Count\n",
    "Write-Host \"$NumInvalid of $($ParentEntities.Count) $($ParentBusinessModule) Entities have inconsistent wpItemLocation\"\n",
    "$ParentEntities | Format-Table Title, fromBmId, fromEntityId, toBmId, toEntityId,  wpItemLocationValid"
   ]
  },
  {
   "cell_type": "markdown",
   "metadata": {},
   "source": [
    "### 7.a. Correct Parent Hierarchy\n",
    "If a parent item has incorrect ``wpItemLocation``, this can be corrected by a simple save operation.\n",
    "#### Strategy\n",
    "- Observe the initial ``wpItemLocation`` values in the ``$ParentEntities`` collection (recovered from BaaS), _note_ these will be invalid.\n",
    "- Invoke a simple save using the ``Set-PnPListItem`` (other _similar_ operation executed in _User Context_ will also work)\n",
    "- Allow processing delay and fetch item again, note that WP365 services will have async repaired ``wpItemLocation``\n"
   ]
  },
  {
   "cell_type": "code",
   "execution_count": 12,
   "metadata": {},
   "outputs": [
    {
     "name": "stdout",
     "output_type": "stream",
     "text": [
      "\n",
      "\u001b[32;1mKey                                                                           Value\u001b[0m\n",
      "\u001b[32;1m---                                                                           -----\u001b[0m\n",
      "ID                                                                               16\n",
      "Title                                                                      New York\n",
      "wpItemLocation 4f7ff1c5853b4956b4bc1e13ce1fa0cb;5afab17cb443411f8bd63a5722a37873;4;\n",
      "\n"
     ]
    }
   ],
   "source": [
    "# Pick and entity from the Parents list.\n",
    "$Entity = $ParentEntities[2]\n",
    "# Observe the BEFORE state of the Parent Entity object\n",
    "(Get-PnPListItem -List $ParentBusinessModule -Id $Entity.toEntityId -Fields \"ID\", \"Title\",\"wpItemLocation\").FieldValues"
   ]
  },
  {
   "cell_type": "code",
   "execution_count": null,
   "metadata": {},
   "outputs": [],
   "source": [
    "# Use ANY save operation (user context) to update the Entity\n",
    "Set-PnpListItem -List $ParentBusinessModule -Identity $Entity.toEntityId -Values @{} -Force"
   ]
  },
  {
   "cell_type": "code",
   "execution_count": null,
   "metadata": {},
   "outputs": [],
   "source": [
    "# Observe the CORRECTED wpItemLocation of the Parent Entity object\n",
    "(Get-PnPListItem -List $ParentBusinessModule -Id $Entity.toEntityId -Fields \"ID\", \"Title\",\"wpItemLocation\").FieldValues"
   ]
  },
  {
   "cell_type": "markdown",
   "metadata": {},
   "source": [
    "#### 7.b. Correct Child Module Hierarchy\n",
    "For child entities, the process is a little more complex. As the ``wpParent`` Lookup value is presumed lost in the recovery operation.\n",
    "#### Strategy\n",
    "- Parse the original ``wpItemLocation`` (recovered from BaaS)\n",
    "- Identify the original wpParent (ID and bmID) using the components in ``wpItemLocation`` value.\n",
    "- Lookup these values in the ``$ParentEntities`` collection.  \n",
    "- Supply these values to the custom ``Set-EntityParent`` method to restore the parent lineage.\n",
    "- Refresh the item and observe that the ``wpParent``  and ``wpItemLocation`` values are corrected by WP365 services."
   ]
  },
  {
   "cell_type": "code",
   "execution_count": 14,
   "metadata": {},
   "outputs": [
    {
     "name": "stdout",
     "output_type": "stream",
     "text": [
      "1 / 6 of Projects Entities have invalid wpItemLocation\n",
      "\n",
      "\u001b[32;1mTitle                  parentEntityId toBmId                           fromEntityId toEntityId wpItemLocationValid\u001b[0m\n",
      "\u001b[32;1m-----                  -------------- ------                           ------------ ---------- -------------------\u001b[0m\n",
      "Baker Street           15             c74c5e27123740fc82479b65b4033f69 119                 119                True\n",
      "Montparnasse           14             c74c5e27123740fc82479b65b4033f69 120                 120                True\n",
      "Gare du Nord           14             c74c5e27123740fc82479b65b4033f69 121                 121                True\n",
      "Charing Cross          15             c74c5e27123740fc82479b65b4033f69 122                 122                True\n",
      "Grand Central Terminal 16             c74c5e27123740fc82479b65b4033f69 123                 123                True\n",
      "Green Park             3              c74c5e27123740fc82479b65b4033f69 3                   124               False\n",
      "\n"
     ]
    }
   ],
   "source": [
    "# Identify the Child Business Module by name, and obtain the list GUID.\n",
    "$ChildBusinessModule = \"Projects\"\n",
    "$ChildBusinessModuleId = (Get-PnPList -Identity $ChildBusinessModule).Id.ToString()\n",
    "\n",
    "# Call the custom Get-Entities function to retrieve all entities and compare current wpItemLocation with actual entity values.\n",
    "$ChildEntities = Get-Entities -BusinessModuleName $ChildBusinessModule -BusinessModuleId $ChildBusinessModuleId\n",
    "$NumInvalid = ($ChildEntities | Where-Object { $_.wpItemLocationValid -eq $false }).Count\n",
    "Write-Host \"$NumInvalid / $($ChildEntities.Count) of $ChildBusinessModule Entities have invalid wpItemLocation\"\n",
    "$ChildEntities | Format-Table Title, parentEntityId, toBmId, fromEntityId, toEntityId, wpItemLocationValid -AutoSize"
   ]
  },
  {
   "cell_type": "code",
   "execution_count": 15,
   "metadata": {},
   "outputs": [
    {
     "name": "stdout",
     "output_type": "stream",
     "text": [
      "\n",
      "\u001b[32;1mKey                                                                                                               Value\u001b[0m\n",
      "\u001b[32;1m---                                                                                                               -----\u001b[0m\n",
      "ID                                                                                                                  119\n",
      "Title                                                                                                      Baker Street\n",
      "wpParent                                                                   Microsoft.SharePoint.Client.FieldLookupValue\n",
      "wpItemLocation .2364295794aab8eade5f80c08a137;315649f93dea4e5eae4265abb18e57b7;15;c74c5e27123740fc82479b65b4033f69;119;\n",
      "\n"
     ]
    }
   ],
   "source": [
    "#Selecting a Child Entity, we first observe its ``wpParent`` and ``wpItemLocation`` values.\n",
    "$Entity = $ChildEntities[0]\n",
    "#Observe the BEFORE state of an ChildEntity (Project)\n",
    "(Get-PnPListItem -List $ChildBusinessModule -Id $Entity.toEntityId -Fields \"ID\", \"Title\",\"wpParent\", \"wpItemLocation\").FieldValues"
   ]
  },
  {
   "cell_type": "code",
   "execution_count": null,
   "metadata": {},
   "outputs": [],
   "source": [
    "# Use the ParentEntities map to check if wpParent is consistent with the mapping values, and if not - update \n",
    "Set-EntityParent -BusinessModuleName $ChildBusinessModule -Entity $Entity  -ParentEntityList $ParentEntities -Force"
   ]
  },
  {
   "cell_type": "code",
   "execution_count": null,
   "metadata": {},
   "outputs": [],
   "source": [
    "#Observe the CORRECTED state of the same child entity, note wpParent and wpItemLocation values.\n",
    "#!Note!, slight processing delay (~2-10s) as wpItemLocation is populated via WP365 Event Chain\n",
    "(Get-PnPListItem -List $ChildBusinessModule -Id $ChildEntities[0].toEntityId -Fields \"ID\", \"Title\",\"wpParent\", \"wpItemLocation\").FieldValues"
   ]
  },
  {
   "cell_type": "markdown",
   "metadata": {},
   "source": [
    "### Step 8. Recover Entity Relationships\n",
    "#### Strategy\n",
    "- Obtain an ``access_token`` for the __App Registration__ for the tenant.\n",
    "- _Observe_ the relations for an Entity using the ``Get-EntityRelations`` function.\n",
    "- _Invoke_ the WP365 API ``ReplaceEntityRelations`` for the Entity, to update any existing references from ``old`` to ``new``.\n",
    "- _Observe_ the old relations and confirm they now are linked to the updated entity item."
   ]
  },
  {
   "cell_type": "code",
   "execution_count": null,
   "metadata": {},
   "outputs": [],
   "source": [
    "# Authenticate w. Azure App Reg and obtain a Bearer Token that can be used for invoking WP365 API.\n",
    "$AccessToken = Get-WPAPIAccessToken -AzureTenantId $AppReg.TenantId -AppRegClientId $AppReg.ClientId -AppRegClientSecret $AppReg.ClientSecret\n",
    "Write-Host $AccessToken"
   ]
  },
  {
   "cell_type": "code",
   "execution_count": null,
   "metadata": {},
   "outputs": [],
   "source": [
    "# Retrieve one of the original Entities (containing from/to BM/Entity ID values)\n",
    "$Entity = $ParentEntities[1]\n",
    "# Observe the ORIGINAL Relations that refer to the ORIGINAL fromBMId and entityID of a recovered Entity\n",
    "Get-EntityRelations -EntityInfo $Entity -UseId \"From\" | Format-Table -AutoSize"
   ]
  },
  {
   "cell_type": "code",
   "execution_count": null,
   "metadata": {},
   "outputs": [],
   "source": [
    "# Call the WP365 API /api/Relations/ReplaceRelationsByEntity - supplying the from/to ID values.\n",
    "MapRelations -SolutionUrl $WPSolutionUrl -AccessToken $AccessToken -fromBmId $Entity.fromBmId `\n",
    "             -fromEntityId $Entity.fromEntityId -toBmId $Entity.toBmId -toEntityId $Entity.toEntityId"
   ]
  },
  {
   "cell_type": "code",
   "execution_count": null,
   "metadata": {},
   "outputs": [],
   "source": [
    "# Query the ORIGINAL Relations (AGAIN) to confirm that no Relations remain\n",
    "Get-EntityRelations -EntityInfo $Entity -UseId \"From\" | Format-Table -AutoSize"
   ]
  },
  {
   "cell_type": "code",
   "execution_count": null,
   "metadata": {},
   "outputs": [],
   "source": [
    "# Query the Relations - using the NEW BMId and Entity ID - Confirm relations mapped\n",
    "Get-EntityRelations -EntityInfo $Entity -UseId \"To\" | Format-Table -AutoSize"
   ]
  },
  {
   "cell_type": "markdown",
   "metadata": {},
   "source": [
    "### Step 10. Connect Entity Item and Site\n",
    "#### Strategy\n",
    "- Select a child entity that has been recovered from __BaaS_.\n",
    "- _Observe_ the ``wp*`` columns on the the *Entity Item*, _Compare_ these to the ``PropertyBag`` entries on the Site itself.\n",
    "- Invoke the ``ConnectToSite`` WP365 API to ensure the Entity Item and Site are correctly related.\n",
    "- Compare Entity Item and Site again, to ensure they are consistent."
   ]
  },
  {
   "cell_type": "code",
   "execution_count": 49,
   "metadata": {},
   "outputs": [
    {
     "name": "stdout",
     "output_type": "stream",
     "text": [
      "\n",
      "\u001b[32;1mTitle               : \u001b[0mGrand Central Terminal\n",
      "\u001b[32;1mparentBmId          : \u001b[0m315649f93dea4e5eae4265abb18e57b7\n",
      "\u001b[32;1mparentEntityId      : \u001b[0m16\n",
      "\u001b[32;1mfromBmId            : \u001b[0mc74c5e27123740fc82479b65b4033f69\n",
      "\u001b[32;1mfromEntityId        : \u001b[0m123\n",
      "\u001b[32;1mtoBmId              : \u001b[0mc74c5e27123740fc82479b65b4033f69\n",
      "\u001b[32;1mtoEntityId          : \u001b[0m123\n",
      "\u001b[32;1mwpSite              : \u001b[0m/sites/WorkPoint_Projects28\n",
      "\u001b[32;1mwpParent            : \u001b[0mMicrosoft.SharePoint.Client.FieldLookupValue\n",
      "\u001b[32;1mwpItemLocation      : \u001b[0m5162364295794aab8eade5f80c08a137;315649f93dea4e5eae4265abb18e57b7;16;c74c5e27123740fc82479b65b403\n",
      "                      3f69;123;\n",
      "\u001b[32;1mwpItemLocationValid : \u001b[0mTrue\n",
      "\n",
      "\n"
     ]
    }
   ],
   "source": [
    "# Pick an entity from the List and observe its wp* column values.\n",
    "$Entity = $ChildEntities[4]\n",
    "$Entity"
   ]
  },
  {
   "cell_type": "code",
   "execution_count": 50,
   "metadata": {},
   "outputs": [
    {
     "name": "stdout",
     "output_type": "stream",
     "text": [
      "Properties of: https://m365x70229008.sharepoint.com/sites/WorkPoint_Projects28\n",
      "\n",
      "\u001b[32;1mKey                           Value\u001b[0m\n",
      "\u001b[32;1m---                           -----\u001b[0m\n",
      "WP_SITE_PARENT_LIST           c74c5e27-1237-40fc-8247-9b65b4033f69\n",
      "WP_SITE_PARENT_SITECOLLECTION 18c2e0af-6bc1-4c38-8c61-65b4bc27c155\n",
      "WP_SITE_PARENT_LIST_ITEM      123\n",
      "WP_ITEM_LOCATION              5162364295794aab8eade5f80c08a137;315649f93dea4e5eae4265abb18e57b7;16;c74c5e27123740fc824.\n",
      "WP_SITE_PARENT_WEB            94f30d4d-6efe-4ca8-bf2d-a384d7230cbc\n",
      "WP_ROOT_SITECOLLECTION        https://m365x70229008.sharepoint.com/sites/workpoint\n",
      "\n"
     ]
    }
   ],
   "source": [
    "# observe the CURRENT propertyBag entries of the connected site.\n",
    "Write-Host \"Properties of: $SharePointUrl$($Entity.wpSite)\" \n",
    "$SiteConnection = Connect-PnPOnline -Url \"$SharePointUrl$($Entity.wpSite)\" -ReturnConnection -Interactive\n",
    "Get-PnPPropertyBag -Connection $SiteConnection | Where-Object { $_.Key -Like \"WP_*\" } | Format-Table -AutoSize"
   ]
  },
  {
   "cell_type": "code",
   "execution_count": null,
   "metadata": {},
   "outputs": [],
   "source": [
    "# Call the Connect to Site API, \n",
    "Connect-EntityToSite -SolutionUrl $WPSolutionUrl -SharePointUrl $SharePointUrl -AccessToken $AccessToken `\n",
    "                     -BusinessModuleId $Entity.toBmId -EntityId $Entity.toEntityId -SiteUrl $Entity.wpSite"
   ]
  },
  {
   "cell_type": "code",
   "execution_count": 71,
   "metadata": {},
   "outputs": [
    {
     "name": "stdout",
     "output_type": "stream",
     "text": [
      "Properties of: https://m365x70229008.sharepoint.com/sites/WorkPoint_Projects28 - AFTER ConnectToSite\n",
      "\n",
      "\u001b[32;1mKey                                                                                                               Value\u001b[0m\n",
      "\u001b[32;1m---                                                                                                               -----\u001b[0m\n",
      "WP_SITE_PARENT_LIST_ITEM                                                                                            123\n",
      "WP_ROOT_SITECOLLECTION                                             https://m365x70229008.sharepoint.com/sites/workpoint\n",
      "WP_SITE_PARENT_SITECOLLECTION                                                      18c2e0af-6bc1-4c38-8c61-65b4bc27c155\n",
      "WP_SITE_PARENT_WEB                                                                 94f30d4d-6efe-4ca8-bf2d-a384d7230cbc\n",
      "WP_SITE_PARENT_LIST                                                                c74c5e27-1237-40fc-8247-9b65b4033f69\n",
      "WP_ITEM_LOCATION              .ade5f80c08a137;315649f93dea4e5eae4265abb18e57b7;16;c74c5e27123740fc82479b65b4033f69;123;\n",
      "\n"
     ]
    }
   ],
   "source": [
    "# observe the UPDATED properties of the connected entity site.\n",
    "Write-Host \"Properties of: $SharePointUrl$($Entity.wpSite) - AFTER ConnectToSite\" \n",
    "Get-PnPPropertyBag -Connection $SiteConnection | Where-Object { $_.Key -Like \"WP_*\" } | Format-Table -AutoSize"
   ]
  },
  {
   "cell_type": "markdown",
   "metadata": {},
   "source": [
    "### Step 12. Select Content Restore\n",
    "##### Strategy:\n",
    "- Pick an entity that has been recovered and confirm that the ``wpItemLocation`` value in the ``Entity Item`` Site and ``Entity Site`` are consistent.\n",
    "- We execute a BAAS restore of the contents, writing back data from the BaaS provider to the ``Documents`` library.\n",
    "- We run the ``EnsureAllItemLocations`` function in *WorkPoint Admin* to ensure all ``wpItemLocation`` values are consistent.\n",
    "- _Observe_ the ``wpItemLocation`` values of the recovery."
   ]
  },
  {
   "cell_type": "code",
   "execution_count": 29,
   "metadata": {},
   "outputs": [
    {
     "name": "stdout",
     "output_type": "stream",
     "text": [
      "\n",
      "\u001b[32;1mTitle               : \u001b[0mGrand Central Terminal\n",
      "\u001b[32;1mparentBmId          : \u001b[0m315649f93dea4e5eae4265abb18e57b7\n",
      "\u001b[32;1mparentEntityId      : \u001b[0m16\n",
      "\u001b[32;1mfromBmId            : \u001b[0mc74c5e27123740fc82479b65b4033f69\n",
      "\u001b[32;1mfromEntityId        : \u001b[0m123\n",
      "\u001b[32;1mtoBmId              : \u001b[0mc74c5e27123740fc82479b65b4033f69\n",
      "\u001b[32;1mtoEntityId          : \u001b[0m123\n",
      "\u001b[32;1mwpSite              : \u001b[0m/sites/WorkPoint_Projects28\n",
      "\u001b[32;1mwpParent            : \u001b[0mMicrosoft.SharePoint.Client.FieldLookupValue\n",
      "\u001b[32;1mwpItemLocation      : \u001b[0m5162364295794aab8eade5f80c08a137;315649f93dea4e5eae4265abb18e57b7;16;c74c5e27123740fc82479b65b403\n",
      "                      3f69;123;\n",
      "\u001b[32;1mwpItemLocationValid : \u001b[0mTrue\n",
      "\n",
      "\n"
     ]
    }
   ],
   "source": [
    " $Entity = $ChildEntities[4]\n",
    " $Entity"
   ]
  },
  {
   "cell_type": "code",
   "execution_count": 30,
   "metadata": {},
   "outputs": [
    {
     "name": "stdout",
     "output_type": "stream",
     "text": [
      "Properties of: https://m365x70229008.sharepoint.com/sites/WorkPoint_Projects28\n",
      "5162364295794aab8eade5f80c08a137;315649f93dea4e5eae4265abb18e57b7;16;c74c5e27123740fc82479b65b4033f69;123;\n"
     ]
    }
   ],
   "source": [
    "# observe the CURRENT of an Entity Site site.\n",
    "Write-Host \"Properties of: $SharePointUrl$($Entity.wpSite)\" \n",
    "$SiteConnection = Connect-PnPOnline -Url \"$SharePointUrl$($Entity.wpSite)\" -ReturnConnection -Interactive\n",
    "$wpItemLocation = Get-PnPPropertyBag -Connection $SiteConnection -Key 'WP_ITEM_LOCATION'\n",
    "# observe what the Entity site should be\n",
    "$wpItemLocation"
   ]
  },
  {
   "cell_type": "code",
   "execution_count": 61,
   "metadata": {},
   "outputs": [
    {
     "name": "stdout",
     "output_type": "stream",
     "text": []
    }
   ],
   "source": [
    "# gather a collection of items from the \"Documents\" library in a site (that has had content restored from a BaaS operation).\n",
    "Function Get-WPSiteItems() {\n",
    "\n",
    "    param (\n",
    "        [Parameter(Position = 0)]\n",
    "        [object] $Connection,\n",
    "        [Parameter(Position = 1, Mandatory=$false)]\n",
    "        [string]$ListName = \"Documents\",\n",
    "        [Parameter(Position = 2, Mandatory=$false)]\n",
    "        [string]$Return = \"Documents\"\n",
    "    )\n",
    "\n",
    "    $wpItemLocation = Get-PnPPropertyBag -Connection $Connection -Key 'WP_ITEM_LOCATION'\n",
    "    \n",
    "    $Items = Get-PnPListItem -Connection $Connection -List $ListName | `\n",
    "    Select-Object id,   @{label=\"Filename\";expression={$_.FieldValues.FileLeafRef}}, `\n",
    "    @{label=\"wpItemLocation\";expression={$_.FieldValues.wpItemLocation}}, `\n",
    "    @{label=\"wpItemLocationValid\";expression={$_.FieldValues.wpItemLocation -eq $wpItemLocation}}\n",
    "    \n",
    "    $NumInvalid = ($Items | Where-Object { $_.wpItemLocationValid -eq $false }).Count\n",
    "    Write-Host \"Collected $($Items.Count) Documents from $($Connection.Url) - ($NumInvalid) have invalid wpItemLocation\"\n",
    "    \n",
    "    return $Items\n",
    "}"
   ]
  },
  {
   "cell_type": "code",
   "execution_count": 63,
   "metadata": {},
   "outputs": [
    {
     "name": "stdout",
     "output_type": "stream",
     "text": [
      "Collected 26 Documents from https://m365x70229008.sharepoint.com/sites/workpoint_projects28 - (25) have invalid wpItemLocation\n",
      "\n",
      "\u001b[32;1mId Filename                            wpItemLocationValid\u001b[0m\n",
      "\u001b[32;1m-- --------                            -------------------\u001b[0m\n",
      " 6 Closure-003.docx                                   True\n",
      " 7 System Architecture Diagram.docx                  False\n",
      " 8 Server Configuration Checklist.docx               False\n",
      " 9 Vendor Contact List.docx                          False\n",
      "10 Change Request Form.docx                          False\n",
      "11 IT Project Plan.docx                              False\n",
      "12 User Training Manual.docx                         False\n",
      "15 Project Timeline.docx                             False\n",
      "16 Risk Assessment Report.docx                       False\n",
      "17 System Maintenance Schedule.docx                  False\n",
      "18 Meeting Minutes 2023-09-15.docx                   False\n",
      "19 Quality Assurance Checklist.docx                  False\n",
      "20 Technical Support Handbook.docx                   False\n",
      "21 Backup and Recovery Plan.docx                     False\n",
      "22 Security Policy and Guidelines.docx               False\n",
      "23 Infrastructure Documentation.docx                 False\n",
      "25 Test Plan and Strategy.docx                       False\n",
      "26 Incident Report Template.docx                     False\n",
      "30 Deployment Script.docx                            False\n",
      "31 User Requirements Document.docx                   False\n",
      "32 Software Release Notes.docx                       False\n",
      "33 Database Schema Diagram.docx                      False\n",
      "34 Network Design Specification.docx                 False\n",
      "35 Service Level Agreement.docx                      False\n",
      "37 Incident Response Plan.docx                       False\n",
      "54 IT Asset Inventory.docx                           False\n",
      "\n"
     ]
    }
   ],
   "source": [
    "$Items = Get-WPSiteItems -Connection $SiteConnection\n",
    "$Items | Format-Table -Property Id, Filename, wpItemLocationValid"
   ]
  },
  {
   "cell_type": "code",
   "execution_count": null,
   "metadata": {},
   "outputs": [],
   "source": []
  },
  {
   "cell_type": "code",
   "execution_count": 65,
   "metadata": {},
   "outputs": [
    {
     "name": "stdout",
     "output_type": "stream",
     "text": [
      "\n",
      "\u001b[32;1mId    Title                                              GUID\u001b[0m\n",
      "\u001b[32;1m--    -----                                              ----\u001b[0m\n",
      "7                                                        b1a37b65-a940-4468-93cc-9092cbf86fef\n",
      "\n"
     ]
    }
   ],
   "source": [
    "# Experiment: force update one item (in user context), observe the ``wpItemLocation`` value is self corrected.\n",
    "# pick an item that has an invalid wpItemLocation\n",
    "$Item = ($Items | Where-Object {$_.wpItemLocationValid -eq $false})[0]\n",
    "$ItemId = $Item.Id\n",
    "Set-PnpListItem -Connection $SiteConnection -List \"Documents\" -Identity $ItemId -Values @{wpItemLocation = $null} -Force"
   ]
  },
  {
   "cell_type": "code",
   "execution_count": 70,
   "metadata": {},
   "outputs": [
    {
     "name": "stdout",
     "output_type": "stream",
     "text": [
      "Collected 26 Documents from https://m365x70229008.sharepoint.com/sites/workpoint_projects28 - (25) have invalid wpItemLocation\n",
      "\n",
      "\u001b[32;1mId                  : \u001b[0m7\n",
      "\u001b[32;1mFilename            : \u001b[0mSystem Architecture Diagram.docx\n",
      "\u001b[32;1mwpItemLocation      : \u001b[0m\n",
      "\u001b[32;1mwpItemLocationValid : \u001b[0mFalse\n",
      "\n",
      "\n"
     ]
    }
   ],
   "source": [
    "# fetch the items again, and filter for the object we just updated, refresh periodically\n",
    "# note that:  -  wpItemLocation is initially blank, but will be corrected (async) by wp events job\n",
    "$Items = Get-WPSiteItems -Connection $SiteConnection\n",
    "$Item = ($Items | Where-Object {$_.Id -eq $ItemId})[0]\n",
    "$Item | Format-List\n"
   ]
  },
  {
   "cell_type": "code",
   "execution_count": 35,
   "metadata": {},
   "outputs": [
    {
     "name": "stdout",
     "output_type": "stream",
     "text": [
      "\n",
      "\u001b[32;1mId Filename                            wpItemLocationValid\u001b[0m\n",
      "\u001b[32;1m-- --------                            -------------------\u001b[0m\n",
      " 6 Closure-003.docx                                  False\n",
      " 7 System Architecture Diagram.docx                  False\n",
      " 8 Server Configuration Checklist.docx               False\n",
      " 9 Vendor Contact List.docx                          False\n",
      "10 Change Request Form.docx                          False\n",
      "11 IT Project Plan.docx                              False\n",
      "12 User Training Manual.docx                         False\n",
      "15 Project Timeline.docx                             False\n",
      "16 Risk Assessment Report.docx                       False\n",
      "17 System Maintenance Schedule.docx                  False\n",
      "18 Meeting Minutes 2023-09-15.docx                   False\n",
      "19 Quality Assurance Checklist.docx                  False\n",
      "20 Technical Support Handbook.docx                   False\n",
      "21 Backup and Recovery Plan.docx                     False\n",
      "22 Security Policy and Guidelines.docx               False\n",
      "23 Infrastructure Documentation.docx                 False\n",
      "25 Test Plan and Strategy.docx                       False\n",
      "26 Incident Report Template.docx                     False\n",
      "30 Deployment Script.docx                            False\n",
      "31 User Requirements Document.docx                   False\n",
      "32 Software Release Notes.docx                       False\n",
      "33 Database Schema Diagram.docx                      False\n",
      "34 Network Design Specification.docx                 False\n",
      "35 Service Level Agreement.docx                      False\n",
      "37 Incident Response Plan.docx                       False\n",
      "54 IT Asset Inventory.docx                           False\n",
      "\n"
     ]
    }
   ],
   "source": [
    "$Items | Format-Table -Property Id, Filename, wpItemLocationValid"
   ]
  },
  {
   "cell_type": "markdown",
   "metadata": {},
   "source": [
    "### Solution Export\n",
    "#### Strategy\n",
    "- Demonstrate use of the WP365 API ``/api/Solution/Export``.\n",
    "- Show how the archive content of a previous Export Job can be downloaded, decoded and stored using the API svc."
   ]
  },
  {
   "cell_type": "code",
   "execution_count": null,
   "metadata": {},
   "outputs": [],
   "source": [
    "$SPHostUrl = \"https://wp365test.sharepoint.com/sites/NN0001UK/\""
   ]
  },
  {
   "cell_type": "code",
   "execution_count": null,
   "metadata": {},
   "outputs": [],
   "source": [
    "# Authenticate with the Azure App Registration\n",
    "$AccessToken = Get-WPAPIAccessToken -AzureTenantId $AppReg.TenantId `\n",
    "                                    -AppRegClientId $AppReg.ClientId `\n",
    "                                    -AppRegClientSecret $AppReg.ClientSecret\n",
    "$AccessToken"
   ]
  },
  {
   "cell_type": "code",
   "execution_count": null,
   "metadata": {},
   "outputs": [],
   "source": [
    "# Generate an authenticated request to the WP365 API, referencing the TemplateId and Solution\n",
    "$R = Invoke-WPApi -Api \"https://api-test.workpoint365.com/api/Solution/Export/633\" -SolutionUrl $SPHostUrl -AccessToken $AccessToken -Method \"GET\"\n",
    "Write-Host \"- Response:\"\n",
    "$R"
   ]
  },
  {
   "cell_type": "code",
   "execution_count": null,
   "metadata": {},
   "outputs": [],
   "source": [
    "#Output the decoded response to Zip.\n",
    "$R | Save-WpExport"
   ]
  }
 ],
 "metadata": {
  "kernelspec": {
   "display_name": "PowerShell",
   "language": "powershell",
   "name": "powershell"
  },
  "language_info": {
   "codemirror_mode": "shell",
   "file_extension": ".ps1",
   "mimetype": "text/x-sh",
   "name": "powershell"
  },
  "orig_nbformat": 4
 },
 "nbformat": 4,
 "nbformat_minor": 2
}
